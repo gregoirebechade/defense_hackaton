{
 "cells": [
  {
   "cell_type": "markdown",
   "metadata": {},
   "source": [
    "This code enables to record reports, nosie them with radio sound, denoise them, use whisper to convert them into text and then calls the mistral API to edit regular reports. "
   ]
  },
  {
   "cell_type": "code",
   "execution_count": 1,
   "metadata": {},
   "outputs": [
    {
     "name": "stderr",
     "output_type": "stream",
     "text": [
      "c:\\Users\\grego\\miniconda3\\envs\\map588\\lib\\site-packages\\tqdm\\auto.py:21: TqdmWarning: IProgress not found. Please update jupyter and ipywidgets. See https://ipywidgets.readthedocs.io/en/stable/user_install.html\n",
      "  from .autonotebook import tqdm as notebook_tqdm\n",
      "c:\\Users\\grego\\miniconda3\\envs\\map588\\lib\\site-packages\\pydub\\utils.py:170: RuntimeWarning: Couldn't find ffmpeg or avconv - defaulting to ffmpeg, but may not work\n",
      "  warn(\"Couldn't find ffmpeg or avconv - defaulting to ffmpeg, but may not work\", RuntimeWarning)\n"
     ]
    }
   ],
   "source": [
    "import os \n",
    "import matplotlib.pyplot as plt\n",
    "from scipy.io import wavfile\n",
    "import noisereduce as nr\n",
    "import IPython.display as ipd\n",
    "import numpy as np\n",
    "import scipy\n",
    "import sounddevice as sd\n",
    "from scipy.io.wavfile import write\n",
    "import os\n",
    "import whisper\n",
    "from mistralai import Mistral\n",
    "import pydub"
   ]
  },
  {
   "cell_type": "code",
   "execution_count": 2,
   "metadata": {},
   "outputs": [],
   "source": [
    "noise_file='radio_noise.wav'"
   ]
  },
  {
   "cell_type": "code",
   "execution_count": 3,
   "metadata": {},
   "outputs": [],
   "source": [
    "noise=scipy.io.wavfile.read('data/'+noise_file)\n",
    "frqcy_noise=noise[0]\n",
    "noise=noise[1].T[0]\n",
    "noise=noise/np.max(np.abs(noise))\n",
    "noise=np.concatenate([noise]*20)\n"
   ]
  },
  {
   "cell_type": "code",
   "execution_count": 4,
   "metadata": {},
   "outputs": [],
   "source": [
    "def denoise(signal, frqcy): # a bit hardcore, would be a good idea to find another way to do the denoising\n",
    "    nperseg=int(frqcy)\n",
    "    _, _,  Sxx = scipy.signal.spectrogram(signal, frqcy, nperseg=nperseg, noverlap=0)\n",
    "    sum=Sxx.sum( axis=0)\n",
    "    sum= sum/np.max(sum)\n",
    "    sum=np.concatenate([sum, np.zeros(1)])\n",
    "    voice_only_speak=np.array([signal[i] for i in range(len(signal)) if sum[int(i/nperseg)]>0.1 ])\n",
    "    noise_only=np.array([signal[i] for i in range(len(signal)) if sum[int(i/nperseg)]<0.1 ])\n",
    "    return nr.reduce_noise(y=voice_only_speak, sr=frqcy, y_noise=noise_only)"
   ]
  },
  {
   "cell_type": "code",
   "execution_count": 5,
   "metadata": {},
   "outputs": [],
   "source": [
    "def noise_signal(signal, noise, add_gaussian=False): \n",
    "    gaussian = np.random.normal(0, 0.5, len(signal))\n",
    "    gaussian = gaussian/np.max(np.abs(gaussian))\n",
    "    return signal + 2*noise[0:len(signal)] + (gaussian if add_gaussian else 0)*0.2"
   ]
  },
  {
   "cell_type": "code",
   "execution_count": null,
   "metadata": {},
   "outputs": [
    {
     "data": {
      "text/plain": [
       "'jk4INoOWgdcEbFjhu8AjUkNcJfsERj2y'"
      ]
     },
     "execution_count": 7,
     "metadata": {},
     "output_type": "execute_result"
    }
   ],
   "source": [
    "with open('./clef_mistral.txt', 'r') as file:\n",
    "    clef_mistral=file.read()\n"
   ]
  },
  {
   "cell_type": "code",
   "execution_count": 7,
   "metadata": {},
   "outputs": [],
   "source": [
    "# set recording = true if you want to record your own voice\n",
    "recording = False\n",
    "if recording : \n",
    "\n",
    "    duration = 12  # secondes\n",
    "    fs = 16000  # Taux d'échantillonnage (16 kHz pour la reconnaissance vocale)\n",
    "\n",
    "    # Enregistrement audio en mono (1 canal)\n",
    "    print(\"Recording...\")\n",
    "    recording = sd.rec(int(duration * fs), samplerate=fs, channels=1)  # channels=1 pour mono\n",
    "    sd.wait()  # Attendre la fin de l'enregistrement\n",
    "    print(\"Recording finished\")\n",
    "\n",
    "    # Sauvegarder en fichier WAV avec le bon format (PCM 16-bit)\n",
    "    write('cr5.wav', fs,recording)  # Conversion en 16 bits\n"
   ]
  },
  {
   "cell_type": "code",
   "execution_count": 8,
   "metadata": {},
   "outputs": [
    {
     "name": "stdout",
     "output_type": "stream",
     "text": [
      "cr1.wav\n",
      "cr2.wav\n",
      "cr3.wav\n",
      "cr4.wav\n",
      "cr5.wav\n"
     ]
    }
   ],
   "source": [
    "for file in os.listdir('./cr_radios_audio/'): \n",
    "    print(file)\n",
    "    # open the wav and noise it \n",
    "    rate, data = wavfile.read('./cr_radios_audio/'+file)\n",
    "    noised_data = noise_signal(data, noise)\n",
    "    noised_data=noised_data.reshape(noised_data.shape[0],1)\n",
    "    # noised data as numpy array, dtype = float32\n",
    "    noised_data = np.array(noised_data, dtype=np.float32)\n",
    "\n",
    "    # save the noise data as a new wav file\n",
    "    # with open('./cr_radios_audio_noised/'+file, 'wb') as f:\n",
    "    scipy.io.wavfile.write('./cr_radios_audio_noised/' + file, rate, noised_data)\n",
    "\n"
   ]
  },
  {
   "cell_type": "code",
   "execution_count": 9,
   "metadata": {},
   "outputs": [
    {
     "name": "stdout",
     "output_type": "stream",
     "text": [
      "cr1.wav\n",
      "cr2.wav\n",
      "cr3.wav\n",
      "cr4.wav\n",
      "cr5.wav\n"
     ]
    }
   ],
   "source": [
    "# denoising : \n",
    "for file in os.listdir('./cr_radios_audio_noised/'): \n",
    "    print(file)\n",
    "    # open the wav and noise it \n",
    "    rate, data = wavfile.read('./cr_radios_audio_noised/'+file)\n",
    "    denoised_data = denoise(data, rate)\n",
    "    denoised_data=denoised_data.reshape(denoised_data.shape[0],1)\n",
    "    # noised data as numpy array, dtype = float32\n",
    "    denoised_data = np.array(denoised_data, dtype=np.float32)\n",
    "    scipy.io.wavfile.write('./cr_radios_audio_denoised/' + file, rate, denoised_data)"
   ]
  },
  {
   "cell_type": "code",
   "execution_count": 10,
   "metadata": {},
   "outputs": [
    {
     "name": "stderr",
     "output_type": "stream",
     "text": [
      "c:\\Users\\grego\\Miniconda3\\envs\\map588\\lib\\site-packages\\whisper\\transcribe.py:126: UserWarning: FP16 is not supported on CPU; using FP32 instead\n",
      "  warnings.warn(\"FP16 is not supported on CPU; using FP32 instead\")\n"
     ]
    },
    {
     "name": "stdout",
     "output_type": "stream",
     "text": [
      "Texte transcrit :\n",
      " is Alpha Squad crossing Route 6 heading north, advancing toward the Mule located further at the spot at fresh vehicle tracks heading toward the top.\n",
      "Texte transcrit :\n",
      " Here is Bravo Squad. We are positioned at the mill, visual on an approaching track. Six max individuals disembarked and starts unloading the hill. They are pulling out packages and heading to those slight contraband. We are moving to Shadow Bay, to monitor their roads. Over.\n",
      "Texte transcrit :\n",
      " Here is Alpha Squad. We have got eyes on six individuals descending their slope to the world or position. They are carrying a loud fags taking covered intercept them over and they are carrying a loud fags taking covered intercept them over\n",
      "Texte transcrit :\n",
      " Here is Bravo Squad. We lost visual on the smugglers returning to the bay scan for rigging over.\n",
      "Texte transcrit :\n",
      " Here is Alpha Squad. Suspects are detained. They were transporting architects, requesting reinforcements for transport to holding the shield.\n"
     ]
    }
   ],
   "source": [
    "\n",
    "# Charger le modèle Whisper\n",
    "model = whisper.load_model(\"base\")\n",
    "\n",
    "os.environ[\"FFMPEG_BINARY\"] = r\"C:\\\\Users\\\\grego\\\\Downloads\\\\ffmpeg-7.1\\\\bin\\\\ffmpeg.exe\"  # Remplacez le chemin par votre chemin correct\n",
    "\n",
    "audios = os.listdir('./cr_radios_audio_denoised/')\n",
    "crs=[]\n",
    "# Charger le fichier audio\n",
    "for audio in audios :\n",
    "    # Vérifier si le chemin est correct\n",
    "    try:\n",
    "        result = model.transcribe('./cr_radios_audio_noised/'+audio, language=\"en\")  # \"fr\" pour le français\n",
    "        print(\"Texte transcrit :\")\n",
    "        print(result[\"text\"])\n",
    "        crs.append(result['text'])\n",
    "        with open('./cr_radios_text/'+audio.split('.')[0]+'.txt', 'w') as f:\n",
    "            f.write(result[\"text\"])\n",
    "    except Exception as e:\n",
    "        print(f\"Erreur lors de la transcription : {e}\")\n",
    "\n",
    "\n"
   ]
  },
  {
   "cell_type": "code",
   "execution_count": null,
   "metadata": {},
   "outputs": [
    {
     "name": "stdout",
     "output_type": "stream",
     "text": [
      "**Global Situation Update:**\n",
      "\n",
      "- **Alpha Squad** is currently crossing Route 6, moving north. Their objective is to intercept the Mule (enemy vehicle) which has been spotted ahead, following fresh vehicle tracks leading towards the hilltop.\n",
      "\n",
      "- No other squads or enemy movements reported at this time.\n",
      "\n",
      "- No engagements or contacts reported by Alpha Squad.\n",
      "\n",
      "- Terrain elevation increases ahead (hilltop), which may provide the Mule with a strategic high ground position.\n",
      "\n",
      "- No updates on the Mule's crew, cargo, or destination.\n",
      "\n",
      "- Recommend caution as Alpha Squad advances; suggest coordination with other squads to cut off potential escape routes or reinforcements for the Mule.\n",
      "\n",
      "- Awaiting further updates from other teams and Alpha Squad's progress.\n",
      "\n",
      "-------------------\n",
      "\n",
      "**Global Situation Update:**\n",
      "\n",
      "- **Alpha Squad** is advancing north across Route 6, pursuing the Mule toward the hilltop.\n",
      "\n",
      "- **Bravo Squad** is positioned at the mill, has spotted an enemy vehicle approaching with approximately 6 individuals unloading packages and moving them toward suspected contraband at the hill. Bravo is relocating to Shadow Bay to monitor enemy roads.\n",
      "\n",
      "- Enemy force strength estimated at approximately 6+ (those at the hill, plus any remaining with the Mule).\n",
      "\n",
      "- Enemy activity suggests distribution or consolidation of supplies, possibly contraband, at the hill.\n",
      "\n",
      "- Both squads are converging on the hilltop area, which may become a point of engagement.\n",
      "\n",
      "- No engagements or contacts reported by either squad at this time.\n",
      "\n",
      "- Recommend coordination between Alpha and Bravo Squads to synchronize their advance and maintain situational awareness.\n",
      "\n",
      "- Awaiting further updates from Alpha and Bravo Squads, as well as any other teams.\n",
      "\n",
      "-------------------\n",
      "\n",
      "**Global Situation Update:**\n",
      "\n",
      "- **Alpha Squad** has spotted 6 individuals descending the hilltop, carrying what appear to be heavy, concealed objects (possibly the packages unloaded by the enemy at the hill). Alpha is moving to intercept them.\n",
      "\n",
      "- **Bravo Squad** is relocating to Shadow Bay to monitor enemy roads, after witnessing the same individuals unloading packages from an enemy vehicle at the mill.\n",
      "\n",
      "- Enemy force strength estimated at approximately 6+ (those descending the hill, plus any remaining with the Mule).\n",
      "\n",
      "- The hilltop area is becoming a hotspot for enemy activity, with both squads converging on this location.\n",
      "\n",
      "- First potential engagement imminent, as Alpha Squad moves to intercept the descending enemy individuals.\n",
      "\n",
      "- Recommend Alpha Squad approach with caution, as the enemy is carrying unknown, concealed objects.\n",
      "\n",
      "- Suggest Bravo Squad maintain their position at Shadow Bay to cut off potential escape routes and monitor for additional enemy movements.\n",
      "\n",
      "- Awaiting further updates from Alpha and Bravo Squads, as well as any other teams.\n",
      "\n",
      "- Be prepared to coordinate support or reinforcements for Alpha Squad if necessary.\n",
      "\n",
      "-------------------\n",
      "\n",
      "**Global Situation Update:**\n",
      "\n",
      "- **Alpha Squad** is engaging with the enemy (6 individuals) descending the hilltop, carrying suspected contraband.\n",
      "\n",
      "- **Bravo Squad** has lost visual contact with the smugglers (enemy individuals) returning to the bay. They are scanning for any signs of enemy activity or additional forces.\n",
      "\n",
      "- Enemy force strength estimated at approximately 6+ (those engaged with Alpha, plus any remaining with the Mule or unaccounted for by Bravo).\n",
      "\n",
      "- Alpha Squad's engagement may alert other enemy forces in the area, increasing the risk of counterattack or reinforcements.\n",
      "\n",
      "- Recommend Alpha Squad maintain situational awareness and report any changes in enemy activity or intentions.\n",
      "\n",
      "- Suggest Bravo Squad continue monitoring the bay and surrounding roads for any signs of enemy movement or reinforcements.\n",
      "\n",
      "- Request any available squads or assets to be on standby for potential support or reinforcement tasks.\n",
      "\n",
      "- Awaiting further updates from Alpha and Bravo Squads, as well as any other teams.\n",
      "\n",
      "- Be prepared to coordinate a response to any enemy counteractions or changes in the situation.\n",
      "\n",
      "-------------------\n",
      "\n",
      "**Global Situation Update:**\n",
      "\n",
      "- **Alpha Squad** has successfully detained the 6 enemy individuals descending the hilltop. Confirmed they were transporting illicit substances (\"architects\"). Alpha is requesting reinforcements to transport the detainees to a holding facility (\"shield\").\n",
      "\n",
      "- **Bravo Squad** continues to monitor Shadow Bay and surrounding roads for any signs of enemy activity or reinforcements, after losing visual contact with the smugglers returning to the bay.\n",
      "\n",
      "- Enemy force strength estimated at approximately 6 detained, plus any remaining with the Mule or unaccounted for by Bravo.\n",
      "\n",
      "- Alpha Squad's successful engagement may prompt a response from remaining enemy forces in the area.\n",
      "\n",
      "- Recommend sending available reinforcements to Alpha Squad's location to assist with detainee transport and provide additional security.\n",
      "\n",
      "- Suggest Bravo Squad maintain vigilance for any signs of enemy counteractions or reinforcements moving to assist their detained comrades.\n",
      "\n",
      "- Request available assets to be on standby for potential support tasks, such as medical assistance, additional transport, or air cover.\n",
      "\n",
      "- Awaiting further updates from Alpha and Bravo Squads, as well as any other teams.\n",
      "\n",
      "- Be prepared to coordinate a response to any enemy actions or changes in the situation, particularly any attempts to interfere with the detainee transport.\n",
      "\n",
      "- Begin planning for debriefing the detainees and gathering intelligence on enemy operations in the area.\n",
      "\n",
      "-------------------\n",
      "\n"
     ]
    }
   ],
   "source": [
    "messages = [{\n",
    "    \"role\": \"system\",\n",
    "    \"content\": \"You are a helpful assistant for military synthesis. You receive reports from the radio emitted from different teams on the ground. Each team has partial point of view but you deliver updates of the evolution of the global situation and make links between the different reports. You will answer at each message with a summary of the global situation for the officer.\"\n",
    "    }]\n",
    "client = Mistral(api_key=clef_mistral)\n",
    "model = \"mistral-large-latest\"\n",
    "count=len(crs)\n",
    "for i in range(len(crs)):     \n",
    "    # user_input = input(\"User: \")\n",
    "    user_input=crs[i]\n",
    "    messages.append({\"role\": \"user\", \"content\": user_input})\n",
    "    response = client.chat.complete(\n",
    "        model=model,  # ou un autre modèle disponible\n",
    "        messages=messages,\n",
    "    )\n",
    "    resp=(response.choices[0].message.content)\n",
    "    print(resp)\n",
    "    messages.append({\"role\": \"assistant\", \"content\": resp})\n",
    "    print()\n",
    "    print('-------------------')\n",
    "    print()\n",
    "\n",
    "messages.append({\"role\": \"user\", \"content\": 'make a global report'})\n",
    "response = client.chat.complete(\n",
    "    model=model,  \n",
    "    messages=messages,\n",
    ")\n",
    "resp=(response.choices[0].message.content)"
   ]
  }
 ],
 "metadata": {
  "kernelspec": {
   "display_name": "map588",
   "language": "python",
   "name": "python3"
  },
  "language_info": {
   "codemirror_mode": {
    "name": "ipython",
    "version": 3
   },
   "file_extension": ".py",
   "mimetype": "text/x-python",
   "name": "python",
   "nbconvert_exporter": "python",
   "pygments_lexer": "ipython3",
   "version": "3.9.20"
  }
 },
 "nbformat": 4,
 "nbformat_minor": 2
}
